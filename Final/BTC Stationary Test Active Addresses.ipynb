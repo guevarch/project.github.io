{
 "cells": [
  {
   "cell_type": "code",
   "execution_count": 1,
   "metadata": {},
   "outputs": [
    {
     "data": {
      "text/plain": [
       "date       datetime64[ns]\n",
       "price             float64\n",
       "wallets             int64\n",
       "address           float64\n",
       "mined             float64\n",
       "dtype: object"
      ]
     },
     "execution_count": 1,
     "metadata": {},
     "output_type": "execute_result"
    }
   ],
   "source": [
    "from datetime import date\n",
    "from prophet import Prophet\n",
    "import pandas as pd\n",
    "import matplotlib.pyplot as plt\n",
    "import numpy as np\n",
    "df = pd.read_csv(\"../Resources/btcjoin.csv\", parse_dates=['date'])\n",
    "df = df.drop(columns=['volume','change', 'low', 'high', 'open'])\n",
    "df = df.rename(columns={\"value\": \"wallets\"})\n",
    "df['price']=df['price'].str.replace(',','')\n",
    "df['price']=df['price'].astype(\"float\")\n",
    "df.dtypes\n",
    "\n",
    "#https://dcresearch.medium.com/metcalfes-law-and-bitcoin-s-value-2b99c7efd1fa"
   ]
  },
  {
   "cell_type": "code",
   "execution_count": 2,
   "metadata": {},
   "outputs": [
    {
     "data": {
      "text/plain": [
       "date            datetime64[ns]\n",
       "price                  float64\n",
       "wallets                  int64\n",
       "address                float64\n",
       "mined                  float64\n",
       "Metcafe                float64\n",
       "value                  float64\n",
       "networkvalue           float64\n",
       "dtype: object"
      ]
     },
     "execution_count": 2,
     "metadata": {},
     "output_type": "execute_result"
    }
   ],
   "source": [
    "df['Metcafe']=df['address']**2\n",
    "# df[\"Metcafe\"] = df[\"Metcafe\"].map(\"{:.1f}\".format)\n",
    "df['value'] = df['Metcafe']/df['mined']\n",
    "df[\"value\"] = df[\"value\"].map(\"{:.2f}\".format)\n",
    "df['value']=df['value'].astype(\"float\")\n",
    "df['networkvalue'] = df[\"price\"] - df[\"value\"]\n",
    "df.dtypes\n"
   ]
  },
  {
   "cell_type": "code",
   "execution_count": 3,
   "metadata": {},
   "outputs": [
    {
     "data": {
      "text/html": [
       "<div>\n",
       "<style scoped>\n",
       "    .dataframe tbody tr th:only-of-type {\n",
       "        vertical-align: middle;\n",
       "    }\n",
       "\n",
       "    .dataframe tbody tr th {\n",
       "        vertical-align: top;\n",
       "    }\n",
       "\n",
       "    .dataframe thead th {\n",
       "        text-align: right;\n",
       "    }\n",
       "</style>\n",
       "<table border=\"1\" class=\"dataframe\">\n",
       "  <thead>\n",
       "    <tr style=\"text-align: right;\">\n",
       "      <th></th>\n",
       "      <th>date</th>\n",
       "      <th>price</th>\n",
       "      <th>wallets</th>\n",
       "      <th>address</th>\n",
       "      <th>mined</th>\n",
       "      <th>Metcafe</th>\n",
       "      <th>value</th>\n",
       "      <th>networkvalue</th>\n",
       "    </tr>\n",
       "  </thead>\n",
       "  <tbody>\n",
       "    <tr>\n",
       "      <th>0</th>\n",
       "      <td>2010-09-25</td>\n",
       "      <td>0.1</td>\n",
       "      <td>2</td>\n",
       "      <td>656.0</td>\n",
       "      <td>4109450.00</td>\n",
       "      <td>4.303360e+05</td>\n",
       "      <td>0.10</td>\n",
       "      <td>0.00</td>\n",
       "    </tr>\n",
       "    <tr>\n",
       "      <th>1</th>\n",
       "      <td>2010-09-26</td>\n",
       "      <td>0.1</td>\n",
       "      <td>2</td>\n",
       "      <td>444.0</td>\n",
       "      <td>4110750.00</td>\n",
       "      <td>1.971360e+05</td>\n",
       "      <td>0.05</td>\n",
       "      <td>0.05</td>\n",
       "    </tr>\n",
       "    <tr>\n",
       "      <th>2</th>\n",
       "      <td>2010-09-27</td>\n",
       "      <td>0.1</td>\n",
       "      <td>2</td>\n",
       "      <td>1070.0</td>\n",
       "      <td>4132150.00</td>\n",
       "      <td>1.144900e+06</td>\n",
       "      <td>0.28</td>\n",
       "      <td>-0.18</td>\n",
       "    </tr>\n",
       "    <tr>\n",
       "      <th>3</th>\n",
       "      <td>2010-09-28</td>\n",
       "      <td>0.1</td>\n",
       "      <td>2</td>\n",
       "      <td>1503.0</td>\n",
       "      <td>4133200.00</td>\n",
       "      <td>2.259009e+06</td>\n",
       "      <td>0.55</td>\n",
       "      <td>-0.45</td>\n",
       "    </tr>\n",
       "    <tr>\n",
       "      <th>4</th>\n",
       "      <td>2010-09-29</td>\n",
       "      <td>0.1</td>\n",
       "      <td>2</td>\n",
       "      <td>1049.0</td>\n",
       "      <td>4148050.00</td>\n",
       "      <td>1.100401e+06</td>\n",
       "      <td>0.27</td>\n",
       "      <td>-0.17</td>\n",
       "    </tr>\n",
       "    <tr>\n",
       "      <th>...</th>\n",
       "      <td>...</td>\n",
       "      <td>...</td>\n",
       "      <td>...</td>\n",
       "      <td>...</td>\n",
       "      <td>...</td>\n",
       "      <td>...</td>\n",
       "      <td>...</td>\n",
       "      <td>...</td>\n",
       "    </tr>\n",
       "    <tr>\n",
       "      <th>4381</th>\n",
       "      <td>2022-10-21</td>\n",
       "      <td>19162.6</td>\n",
       "      <td>84879615</td>\n",
       "      <td>924681.0</td>\n",
       "      <td>19185681.25</td>\n",
       "      <td>8.550350e+11</td>\n",
       "      <td>44566.31</td>\n",
       "      <td>-25403.71</td>\n",
       "    </tr>\n",
       "    <tr>\n",
       "      <th>4382</th>\n",
       "      <td>2022-10-22</td>\n",
       "      <td>19204.8</td>\n",
       "      <td>84888147</td>\n",
       "      <td>830404.0</td>\n",
       "      <td>19186618.75</td>\n",
       "      <td>6.895708e+11</td>\n",
       "      <td>35940.19</td>\n",
       "      <td>-16735.39</td>\n",
       "    </tr>\n",
       "    <tr>\n",
       "      <th>4383</th>\n",
       "      <td>2022-10-23</td>\n",
       "      <td>19571.2</td>\n",
       "      <td>84893809</td>\n",
       "      <td>804140.0</td>\n",
       "      <td>19187600.00</td>\n",
       "      <td>6.466411e+11</td>\n",
       "      <td>33700.99</td>\n",
       "      <td>-14129.79</td>\n",
       "    </tr>\n",
       "    <tr>\n",
       "      <th>4384</th>\n",
       "      <td>2022-10-24</td>\n",
       "      <td>19331.5</td>\n",
       "      <td>84902680</td>\n",
       "      <td>919344.0</td>\n",
       "      <td>19188556.25</td>\n",
       "      <td>8.451934e+11</td>\n",
       "      <td>44046.74</td>\n",
       "      <td>-24715.24</td>\n",
       "    </tr>\n",
       "    <tr>\n",
       "      <th>4385</th>\n",
       "      <td>2022-10-25</td>\n",
       "      <td>20073.1</td>\n",
       "      <td>84909074</td>\n",
       "      <td>826804.0</td>\n",
       "      <td>19189162.50</td>\n",
       "      <td>6.836049e+11</td>\n",
       "      <td>35624.53</td>\n",
       "      <td>-15551.43</td>\n",
       "    </tr>\n",
       "  </tbody>\n",
       "</table>\n",
       "<p>4386 rows × 8 columns</p>\n",
       "</div>"
      ],
      "text/plain": [
       "           date    price   wallets   address        mined       Metcafe  \\\n",
       "0    2010-09-25      0.1         2     656.0   4109450.00  4.303360e+05   \n",
       "1    2010-09-26      0.1         2     444.0   4110750.00  1.971360e+05   \n",
       "2    2010-09-27      0.1         2    1070.0   4132150.00  1.144900e+06   \n",
       "3    2010-09-28      0.1         2    1503.0   4133200.00  2.259009e+06   \n",
       "4    2010-09-29      0.1         2    1049.0   4148050.00  1.100401e+06   \n",
       "...         ...      ...       ...       ...          ...           ...   \n",
       "4381 2022-10-21  19162.6  84879615  924681.0  19185681.25  8.550350e+11   \n",
       "4382 2022-10-22  19204.8  84888147  830404.0  19186618.75  6.895708e+11   \n",
       "4383 2022-10-23  19571.2  84893809  804140.0  19187600.00  6.466411e+11   \n",
       "4384 2022-10-24  19331.5  84902680  919344.0  19188556.25  8.451934e+11   \n",
       "4385 2022-10-25  20073.1  84909074  826804.0  19189162.50  6.836049e+11   \n",
       "\n",
       "         value  networkvalue  \n",
       "0         0.10          0.00  \n",
       "1         0.05          0.05  \n",
       "2         0.28         -0.18  \n",
       "3         0.55         -0.45  \n",
       "4         0.27         -0.17  \n",
       "...        ...           ...  \n",
       "4381  44566.31     -25403.71  \n",
       "4382  35940.19     -16735.39  \n",
       "4383  33700.99     -14129.79  \n",
       "4384  44046.74     -24715.24  \n",
       "4385  35624.53     -15551.43  \n",
       "\n",
       "[4386 rows x 8 columns]"
      ]
     },
     "execution_count": 3,
     "metadata": {},
     "output_type": "execute_result"
    }
   ],
   "source": [
    "df"
   ]
  },
  {
   "cell_type": "code",
   "execution_count": 4,
   "metadata": {},
   "outputs": [],
   "source": [
    "## Test Price\n",
    "df = df.drop(columns=['wallets','price', 'mined', 'Metcafe', 'value','networkvalue'])"
   ]
  },
  {
   "cell_type": "code",
   "execution_count": 5,
   "metadata": {},
   "outputs": [],
   "source": [
    "df = df.set_index('date')"
   ]
  },
  {
   "cell_type": "code",
   "execution_count": 6,
   "metadata": {},
   "outputs": [
    {
     "data": {
      "image/png": "[encoded data removed]",
      "text/plain": [
       "<Figure size 432x288 with 1 Axes>"
      ]
     },
     "metadata": {
      "needs_background": "light"
     },
     "output_type": "display_data"
    }
   ],
   "source": [
    "from matplotlib import pyplot\n",
    "df.hist()\n",
    "pyplot.show()"
   ]
  },
  {
   "cell_type": "code",
   "execution_count": 7,
   "metadata": {},
   "outputs": [
    {
     "name": "stdout",
     "output_type": "stream",
     "text": [
      "mean1=160310.411765, mean2=812240.780210\n",
      "variance1=26317035833.845497, variance2=32603211036.358440\n"
     ]
    }
   ],
   "source": [
    "## mean and variance are different, which suggests the time series is non stationary\n",
    "X = df.values\n",
    "split = round(len(X) / 2)\n",
    "X1, X2 = X[0:split], X[split:]\n",
    "mean1, mean2 = X1.mean(), X2.mean()\n",
    "var1, var2 = X1.var(), X2.var()\n",
    "print('mean1=%f, mean2=%f' % (mean1, mean2))\n",
    "print('variance1=%f, variance2=%f' % (var1, var2))"
   ]
  },
  {
   "cell_type": "code",
   "execution_count": 8,
   "metadata": {},
   "outputs": [
    {
     "data": {
      "image/png": "[encoded data removed]",
      "text/plain": [
       "<Figure size 432x288 with 1 Axes>"
      ]
     },
     "metadata": {
      "needs_background": "light"
     },
     "output_type": "display_data"
    },
    {
     "data": {
      "image/png": "[encoded data removed]",
      "text/plain": [
       "<Figure size 432x288 with 1 Axes>"
      ]
     },
     "metadata": {
      "needs_background": "light"
     },
     "output_type": "display_data"
    }
   ],
   "source": [
    "from numpy import log\n",
    "X = df.values\n",
    "X = log(X)\n",
    "pyplot.hist(X)\n",
    "pyplot.show()\n",
    "pyplot.plot(X)\n",
    "pyplot.show()"
   ]
  },
  {
   "cell_type": "code",
   "execution_count": 9,
   "metadata": {},
   "outputs": [
    {
     "name": "stdout",
     "output_type": "stream",
     "text": [
      "mean1=11.090716, mean2=13.582613\n",
      "variance1=2.991757, variance2=0.050441\n"
     ]
    }
   ],
   "source": [
    "X = df.values\n",
    "X = log(X)\n",
    "split = round(len(X) / 2)\n",
    "X1, X2 = X[0:split], X[split:]\n",
    "mean1, mean2 = X1.mean(), X2.mean()\n",
    "var1, var2 = X1.var(), X2.var()\n",
    "print('mean1=%f, mean2=%f' % (mean1, mean2))\n",
    "print('variance1=%f, variance2=%f' % (var1, var2))"
   ]
  },
  {
   "cell_type": "code",
   "execution_count": 10,
   "metadata": {},
   "outputs": [
    {
     "name": "stdout",
     "output_type": "stream",
     "text": [
      "ADF Statistic: -1.133470\n",
      "p-value: 0.701542\n",
      "Critical Values:\n",
      "\t1%: -3.432\n",
      "\t5%: -2.862\n",
      "\t10%: -2.567\n"
     ]
    }
   ],
   "source": [
    "from pandas import read_csv\n",
    "from statsmodels.tsa.stattools import adfuller\n",
    "X = df.values\n",
    "result = adfuller(X)\n",
    "print('ADF Statistic: %f' % result[0])\n",
    "print('p-value: %f' % result[1])\n",
    "print('Critical Values:')\n",
    "for key, value in result[4].items():\n",
    "\tprint('\\t%s: %.3f' % (key, value))"
   ]
  },
  {
   "cell_type": "code",
   "execution_count": 11,
   "metadata": {},
   "outputs": [
    {
     "name": "stdout",
     "output_type": "stream",
     "text": [
      "ADF Statistic: -4.806543\n",
      "p-value: 0.000053\n",
      "\t1%: -3.432\n",
      "\t5%: -2.862\n",
      "\t10%: -2.567\n"
     ]
    }
   ],
   "source": [
    "X = df.values\n",
    "X = log(X)\n",
    "result = adfuller(X)\n",
    "print('ADF Statistic: %f' % result[0])\n",
    "print('p-value: %f' % result[1])\n",
    "for key, value in result[4].items():\n",
    "\tprint('\\t%s: %.3f' % (key, value))"
   ]
  },
  {
   "cell_type": "code",
   "execution_count": 12,
   "metadata": {},
   "outputs": [
    {
     "data": {
      "image/png": "[encoded data removed]",
      "text/plain": [
       "<Figure size 432x288 with 1 Axes>"
      ]
     },
     "metadata": {
      "needs_background": "light"
     },
     "output_type": "display_data"
    }
   ],
   "source": [
    "from statsmodels.graphics.tsaplots import plot_acf\n",
    "df[\"diff\"] = df.diff()\n",
    "df[\"diff\"].iloc[0] = 0\n",
    "plot_acf(df[\"diff\"])\n",
    "plt.show()"
   ]
  }
 ],
 "metadata": {
  "kernelspec": {
   "display_name": "Python 3.9.12 64-bit ('anaconda3')",
   "language": "python",
   "name": "python3"
  },
  "language_info": {
   "codemirror_mode": {
    "name": "ipython",
    "version": 3
   },
   "file_extension": ".py",
   "mimetype": "text/x-python",
   "name": "python",
   "nbconvert_exporter": "python",
   "pygments_lexer": "ipython3",
   "version": "3.9.12"
  },
  "orig_nbformat": 4,
  "vscode": {
   "interpreter": {
    "hash": "0186a538ad27e2db57fefa14172f824d8896a2c272936670a25fa8d5fb9a4dc9"
   }
  }
 },
 "nbformat": 4,
 "nbformat_minor": 2
}
