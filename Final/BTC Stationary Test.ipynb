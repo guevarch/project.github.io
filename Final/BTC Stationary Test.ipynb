{
 "cells": [
  {
   "cell_type": "code",
   "execution_count": 1,
   "metadata": {},
   "outputs": [
    {
     "data": {
      "text/plain": [
       "date       datetime64[ns]\n",
       "price             float64\n",
       "wallets             int64\n",
       "address           float64\n",
       "mined             float64\n",
       "dtype: object"
      ]
     },
     "execution_count": 1,
     "metadata": {},
     "output_type": "execute_result"
    }
   ],
   "source": [
    "from datetime import date\n",
    "from prophet import Prophet\n",
    "import pandas as pd\n",
    "import matplotlib.pyplot as plt\n",
    "import numpy as np\n",
    "df = pd.read_csv(\"../Resources/btcjoin.csv\", parse_dates=['date'])\n",
    "df = df.drop(columns=['volume','change', 'low', 'high', 'open'])\n",
    "df = df.rename(columns={\"value\": \"wallets\"})\n",
    "df['price']=df['price'].str.replace(',','')\n",
    "df['price']=df['price'].astype(\"float\")\n",
    "df.dtypes\n",
    "\n",
    "#https://dcresearch.medium.com/metcalfes-law-and-bitcoin-s-value-2b99c7efd1fa"
   ]
  },
  {
   "cell_type": "code",
   "execution_count": 2,
   "metadata": {},
   "outputs": [
    {
     "data": {
      "text/plain": [
       "date            datetime64[ns]\n",
       "price                  float64\n",
       "wallets                  int64\n",
       "address                float64\n",
       "mined                  float64\n",
       "Metcafe                float64\n",
       "value                  float64\n",
       "networkvalue           float64\n",
       "dtype: object"
      ]
     },
     "execution_count": 2,
     "metadata": {},
     "output_type": "execute_result"
    }
   ],
   "source": [
    "df['Metcafe']=df['address']**2\n",
    "# df[\"Metcafe\"] = df[\"Metcafe\"].map(\"{:.1f}\".format)\n",
    "df['value'] = df['Metcafe']/df['mined']\n",
    "df[\"value\"] = df[\"value\"].map(\"{:.2f}\".format)\n",
    "df['value']=df['value'].astype(\"float\")\n",
    "df['networkvalue'] = df[\"price\"] - df[\"value\"]\n",
    "df.dtypes\n"
   ]
  },
  {
   "cell_type": "code",
   "execution_count": 3,
   "metadata": {},
   "outputs": [
    {
     "data": {
      "text/html": [
       "<div>\n",
       "<style scoped>\n",
       "    .dataframe tbody tr th:only-of-type {\n",
       "        vertical-align: middle;\n",
       "    }\n",
       "\n",
       "    .dataframe tbody tr th {\n",
       "        vertical-align: top;\n",
       "    }\n",
       "\n",
       "    .dataframe thead th {\n",
       "        text-align: right;\n",
       "    }\n",
       "</style>\n",
       "<table border=\"1\" class=\"dataframe\">\n",
       "  <thead>\n",
       "    <tr style=\"text-align: right;\">\n",
       "      <th></th>\n",
       "      <th>date</th>\n",
       "      <th>price</th>\n",
       "      <th>wallets</th>\n",
       "      <th>address</th>\n",
       "      <th>mined</th>\n",
       "      <th>Metcafe</th>\n",
       "      <th>value</th>\n",
       "      <th>networkvalue</th>\n",
       "    </tr>\n",
       "  </thead>\n",
       "  <tbody>\n",
       "    <tr>\n",
       "      <th>0</th>\n",
       "      <td>2010-09-25</td>\n",
       "      <td>0.1</td>\n",
       "      <td>2</td>\n",
       "      <td>656.0</td>\n",
       "      <td>4109450.00</td>\n",
       "      <td>4.303360e+05</td>\n",
       "      <td>0.10</td>\n",
       "      <td>0.00</td>\n",
       "    </tr>\n",
       "    <tr>\n",
       "      <th>1</th>\n",
       "      <td>2010-09-26</td>\n",
       "      <td>0.1</td>\n",
       "      <td>2</td>\n",
       "      <td>444.0</td>\n",
       "      <td>4110750.00</td>\n",
       "      <td>1.971360e+05</td>\n",
       "      <td>0.05</td>\n",
       "      <td>0.05</td>\n",
       "    </tr>\n",
       "    <tr>\n",
       "      <th>2</th>\n",
       "      <td>2010-09-27</td>\n",
       "      <td>0.1</td>\n",
       "      <td>2</td>\n",
       "      <td>1070.0</td>\n",
       "      <td>4132150.00</td>\n",
       "      <td>1.144900e+06</td>\n",
       "      <td>0.28</td>\n",
       "      <td>-0.18</td>\n",
       "    </tr>\n",
       "    <tr>\n",
       "      <th>3</th>\n",
       "      <td>2010-09-28</td>\n",
       "      <td>0.1</td>\n",
       "      <td>2</td>\n",
       "      <td>1503.0</td>\n",
       "      <td>4133200.00</td>\n",
       "      <td>2.259009e+06</td>\n",
       "      <td>0.55</td>\n",
       "      <td>-0.45</td>\n",
       "    </tr>\n",
       "    <tr>\n",
       "      <th>4</th>\n",
       "      <td>2010-09-29</td>\n",
       "      <td>0.1</td>\n",
       "      <td>2</td>\n",
       "      <td>1049.0</td>\n",
       "      <td>4148050.00</td>\n",
       "      <td>1.100401e+06</td>\n",
       "      <td>0.27</td>\n",
       "      <td>-0.17</td>\n",
       "    </tr>\n",
       "    <tr>\n",
       "      <th>...</th>\n",
       "      <td>...</td>\n",
       "      <td>...</td>\n",
       "      <td>...</td>\n",
       "      <td>...</td>\n",
       "      <td>...</td>\n",
       "      <td>...</td>\n",
       "      <td>...</td>\n",
       "      <td>...</td>\n",
       "    </tr>\n",
       "    <tr>\n",
       "      <th>4381</th>\n",
       "      <td>2022-10-21</td>\n",
       "      <td>19162.6</td>\n",
       "      <td>84879615</td>\n",
       "      <td>924681.0</td>\n",
       "      <td>19185681.25</td>\n",
       "      <td>8.550350e+11</td>\n",
       "      <td>44566.31</td>\n",
       "      <td>-25403.71</td>\n",
       "    </tr>\n",
       "    <tr>\n",
       "      <th>4382</th>\n",
       "      <td>2022-10-22</td>\n",
       "      <td>19204.8</td>\n",
       "      <td>84888147</td>\n",
       "      <td>830404.0</td>\n",
       "      <td>19186618.75</td>\n",
       "      <td>6.895708e+11</td>\n",
       "      <td>35940.19</td>\n",
       "      <td>-16735.39</td>\n",
       "    </tr>\n",
       "    <tr>\n",
       "      <th>4383</th>\n",
       "      <td>2022-10-23</td>\n",
       "      <td>19571.2</td>\n",
       "      <td>84893809</td>\n",
       "      <td>804140.0</td>\n",
       "      <td>19187600.00</td>\n",
       "      <td>6.466411e+11</td>\n",
       "      <td>33700.99</td>\n",
       "      <td>-14129.79</td>\n",
       "    </tr>\n",
       "    <tr>\n",
       "      <th>4384</th>\n",
       "      <td>2022-10-24</td>\n",
       "      <td>19331.5</td>\n",
       "      <td>84902680</td>\n",
       "      <td>919344.0</td>\n",
       "      <td>19188556.25</td>\n",
       "      <td>8.451934e+11</td>\n",
       "      <td>44046.74</td>\n",
       "      <td>-24715.24</td>\n",
       "    </tr>\n",
       "    <tr>\n",
       "      <th>4385</th>\n",
       "      <td>2022-10-25</td>\n",
       "      <td>20073.1</td>\n",
       "      <td>84909074</td>\n",
       "      <td>826804.0</td>\n",
       "      <td>19189162.50</td>\n",
       "      <td>6.836049e+11</td>\n",
       "      <td>35624.53</td>\n",
       "      <td>-15551.43</td>\n",
       "    </tr>\n",
       "  </tbody>\n",
       "</table>\n",
       "<p>4386 rows × 8 columns</p>\n",
       "</div>"
      ],
      "text/plain": [
       "           date    price   wallets   address        mined       Metcafe  \\\n",
       "0    2010-09-25      0.1         2     656.0   4109450.00  4.303360e+05   \n",
       "1    2010-09-26      0.1         2     444.0   4110750.00  1.971360e+05   \n",
       "2    2010-09-27      0.1         2    1070.0   4132150.00  1.144900e+06   \n",
       "3    2010-09-28      0.1         2    1503.0   4133200.00  2.259009e+06   \n",
       "4    2010-09-29      0.1         2    1049.0   4148050.00  1.100401e+06   \n",
       "...         ...      ...       ...       ...          ...           ...   \n",
       "4381 2022-10-21  19162.6  84879615  924681.0  19185681.25  8.550350e+11   \n",
       "4382 2022-10-22  19204.8  84888147  830404.0  19186618.75  6.895708e+11   \n",
       "4383 2022-10-23  19571.2  84893809  804140.0  19187600.00  6.466411e+11   \n",
       "4384 2022-10-24  19331.5  84902680  919344.0  19188556.25  8.451934e+11   \n",
       "4385 2022-10-25  20073.1  84909074  826804.0  19189162.50  6.836049e+11   \n",
       "\n",
       "         value  networkvalue  \n",
       "0         0.10          0.00  \n",
       "1         0.05          0.05  \n",
       "2         0.28         -0.18  \n",
       "3         0.55         -0.45  \n",
       "4         0.27         -0.17  \n",
       "...        ...           ...  \n",
       "4381  44566.31     -25403.71  \n",
       "4382  35940.19     -16735.39  \n",
       "4383  33700.99     -14129.79  \n",
       "4384  44046.74     -24715.24  \n",
       "4385  35624.53     -15551.43  \n",
       "\n",
       "[4386 rows x 8 columns]"
      ]
     },
     "execution_count": 3,
     "metadata": {},
     "output_type": "execute_result"
    }
   ],
   "source": [
    "df"
   ]
  },
  {
   "cell_type": "code",
   "execution_count": 4,
   "metadata": {},
   "outputs": [],
   "source": [
    "## Test Price\n",
    "df = df.drop(columns=['wallets','address', 'mined', 'Metcafe', 'value','networkvalue'])"
   ]
  },
  {
   "cell_type": "code",
   "execution_count": 5,
   "metadata": {},
   "outputs": [],
   "source": [
    "df = df.set_index('date')"
   ]
  },
  {
   "cell_type": "code",
   "execution_count": 6,
   "metadata": {},
   "outputs": [
    {
     "data": {
      "image/png": "[encoded data removed]",
      "text/plain": [
       "<Figure size 432x288 with 1 Axes>"
      ]
     },
     "metadata": {
      "needs_background": "light"
     },
     "output_type": "display_data"
    }
   ],
   "source": [
    "from matplotlib import pyplot\n",
    "df.hist()\n",
    "pyplot.show()"
   ]
  },
  {
   "cell_type": "code",
   "execution_count": 7,
   "metadata": {},
   "outputs": [
    {
     "name": "stdout",
     "output_type": "stream",
     "text": [
      "mean1=230.573142, mean2=16936.320702\n",
      "variance1=61688.136803, variance2=288670101.604633\n"
     ]
    }
   ],
   "source": [
    "## mean and variance are different, which suggests the time series is non stationary\n",
    "X = df.values\n",
    "split = round(len(X) / 2)\n",
    "X1, X2 = X[0:split], X[split:]\n",
    "mean1, mean2 = X1.mean(), X2.mean()\n",
    "var1, var2 = X1.var(), X2.var()\n",
    "print('mean1=%f, mean2=%f' % (mean1, mean2))\n",
    "print('variance1=%f, variance2=%f' % (var1, var2))"
   ]
  },
  {
   "cell_type": "code",
   "execution_count": 8,
   "metadata": {},
   "outputs": [
    {
     "data": {
      "image/png": "[encoded data removed]",
      "text/plain": [
       "<Figure size 432x288 with 1 Axes>"
      ]
     },
     "metadata": {
      "needs_background": "light"
     },
     "output_type": "display_data"
    },
    {
     "data": {
      "image/png": "[encoded data removed]",
      "text/plain": [
       "<Figure size 432x288 with 1 Axes>"
      ]
     },
     "metadata": {
      "needs_background": "light"
     },
     "output_type": "display_data"
    }
   ],
   "source": [
    "from numpy import log\n",
    "X = df.values\n",
    "X = log(X)\n",
    "pyplot.hist(X)\n",
    "pyplot.show()\n",
    "pyplot.plot(X)\n",
    "pyplot.show()"
   ]
  },
  {
   "cell_type": "code",
   "execution_count": 9,
   "metadata": {},
   "outputs": [
    {
     "name": "stdout",
     "output_type": "stream",
     "text": [
      "mean1=3.963961, mean2=9.174585\n",
      "variance1=5.856168, variance2=1.358006\n"
     ]
    }
   ],
   "source": [
    "X = df.values\n",
    "X = log(X)\n",
    "split = round(len(X) / 2)\n",
    "X1, X2 = X[0:split], X[split:]\n",
    "mean1, mean2 = X1.mean(), X2.mean()\n",
    "var1, var2 = X1.var(), X2.var()\n",
    "print('mean1=%f, mean2=%f' % (mean1, mean2))\n",
    "print('variance1=%f, variance2=%f' % (var1, var2))"
   ]
  },
  {
   "cell_type": "code",
   "execution_count": 10,
   "metadata": {},
   "outputs": [
    {
     "name": "stdout",
     "output_type": "stream",
     "text": [
      "ADF Statistic: -1.769203\n",
      "p-value: 0.395855\n",
      "Critical Values:\n",
      "\t1%: -3.432\n",
      "\t5%: -2.862\n",
      "\t10%: -2.567\n"
     ]
    }
   ],
   "source": [
    "from pandas import read_csv\n",
    "from statsmodels.tsa.stattools import adfuller\n",
    "X = df.values\n",
    "result = adfuller(X)\n",
    "print('ADF Statistic: %f' % result[0])\n",
    "print('p-value: %f' % result[1])\n",
    "print('Critical Values:')\n",
    "for key, value in result[4].items():\n",
    "\tprint('\\t%s: %.3f' % (key, value))"
   ]
  },
  {
   "cell_type": "code",
   "execution_count": 11,
   "metadata": {},
   "outputs": [
    {
     "name": "stdout",
     "output_type": "stream",
     "text": [
      "ADF Statistic: -3.182831\n",
      "p-value: 0.021000\n",
      "\t1%: -3.432\n",
      "\t5%: -2.862\n",
      "\t10%: -2.567\n"
     ]
    }
   ],
   "source": [
    "X = df.values\n",
    "X = log(X)\n",
    "result = adfuller(X)\n",
    "print('ADF Statistic: %f' % result[0])\n",
    "print('p-value: %f' % result[1])\n",
    "for key, value in result[4].items():\n",
    "\tprint('\\t%s: %.3f' % (key, value))"
   ]
  },
  {
   "cell_type": "code",
   "execution_count": 12,
   "metadata": {},
   "outputs": [
    {
     "data": {
      "image/png": "[encoded data removed]",
      "text/plain": [
       "<Figure size 432x288 with 1 Axes>"
      ]
     },
     "metadata": {
      "needs_background": "light"
     },
     "output_type": "display_data"
    }
   ],
   "source": [
    "from statsmodels.graphics.tsaplots import plot_acf\n",
    "df[\"diff\"] = df.diff()\n",
    "df[\"diff\"].iloc[0] = 0\n",
    "plot_acf(df[\"diff\"])\n",
    "plt.show()"
   ]
  },
  {
   "cell_type": "code",
   "execution_count": 13,
   "metadata": {},
   "outputs": [
    {
     "ename": "TypeError",
     "evalue": "Index(...) must be called with a collection of some kind, 'seasonal' was passed",
     "output_type": "error",
     "traceback": [
      "\u001b[1;31m---------------------------------------------------------------------------\u001b[0m",
      "\u001b[1;31mTypeError\u001b[0m                                 Traceback (most recent call last)",
      "\u001b[1;32mc:\\Users\\16474\\Desktop\\Coding\\project.github.io\\Final\\BTC Stationary Test.ipynb Cell 13\u001b[0m in \u001b[0;36m<cell line: 3>\u001b[1;34m()\u001b[0m\n\u001b[0;32m      <a href='vscode-notebook-cell:/c%3A/Users/16474/Desktop/Coding/project.github.io/Final/BTC%20Stationary%20Test.ipynb#X15sZmlsZQ%3D%3D?line=0'>1</a>\u001b[0m \u001b[39mfrom\u001b[39;00m \u001b[39mstatsmodels\u001b[39;00m\u001b[39m.\u001b[39;00m\u001b[39mtsa\u001b[39;00m\u001b[39m.\u001b[39;00m\u001b[39mseasonal\u001b[39;00m \u001b[39mimport\u001b[39;00m seasonal_decompose\n\u001b[1;32m----> <a href='vscode-notebook-cell:/c%3A/Users/16474/Desktop/Coding/project.github.io/Final/BTC%20Stationary%20Test.ipynb#X15sZmlsZQ%3D%3D?line=2'>3</a>\u001b[0m res \u001b[39m=\u001b[39m seasonal_decompose(df, model \u001b[39m=\u001b[39;49m \u001b[39m\"\u001b[39;49m\u001b[39madditive \u001b[39;49m\u001b[39m\"\u001b[39;49m,period \u001b[39m=\u001b[39;49m \u001b[39m30\u001b[39;49m)\n\u001b[0;32m      <a href='vscode-notebook-cell:/c%3A/Users/16474/Desktop/Coding/project.github.io/Final/BTC%20Stationary%20Test.ipynb#X15sZmlsZQ%3D%3D?line=4'>5</a>\u001b[0m fig, (ax1,ax2,ax3) \u001b[39m=\u001b[39m plt\u001b[39m.\u001b[39msubplots(\u001b[39m3\u001b[39m,\u001b[39m1\u001b[39m, figsize\u001b[39m=\u001b[39m(\u001b[39m15\u001b[39m,\u001b[39m8\u001b[39m))\n\u001b[0;32m      <a href='vscode-notebook-cell:/c%3A/Users/16474/Desktop/Coding/project.github.io/Final/BTC%20Stationary%20Test.ipynb#X15sZmlsZQ%3D%3D?line=5'>6</a>\u001b[0m res\u001b[39m.\u001b[39mtrend\u001b[39m.\u001b[39mplot(ax\u001b[39m=\u001b[39max1,ylabel \u001b[39m=\u001b[39m \u001b[39m\"\u001b[39m\u001b[39mtrend\u001b[39m\u001b[39m\"\u001b[39m)\n",
      "File \u001b[1;32mc:\\Users\\16474\\anaconda3\\lib\\site-packages\\statsmodels\\tsa\\seasonal.py:207\u001b[0m, in \u001b[0;36mseasonal_decompose\u001b[1;34m(x, model, filt, period, two_sided, extrapolate_trend)\u001b[0m\n\u001b[0;32m    203\u001b[0m results \u001b[39m=\u001b[39m []\n\u001b[0;32m    204\u001b[0m \u001b[39mfor\u001b[39;00m s, name \u001b[39min\u001b[39;00m \u001b[39mzip\u001b[39m(\n\u001b[0;32m    205\u001b[0m     (seasonal, trend, resid, x), (\u001b[39m\"\u001b[39m\u001b[39mseasonal\u001b[39m\u001b[39m\"\u001b[39m, \u001b[39m\"\u001b[39m\u001b[39mtrend\u001b[39m\u001b[39m\"\u001b[39m, \u001b[39m\"\u001b[39m\u001b[39mresid\u001b[39m\u001b[39m\"\u001b[39m, \u001b[39mNone\u001b[39;00m)\n\u001b[0;32m    206\u001b[0m ):\n\u001b[1;32m--> 207\u001b[0m     results\u001b[39m.\u001b[39mappend(pw\u001b[39m.\u001b[39;49mwrap(s\u001b[39m.\u001b[39;49msqueeze(), columns\u001b[39m=\u001b[39;49mname))\n\u001b[0;32m    208\u001b[0m \u001b[39mreturn\u001b[39;00m DecomposeResult(\n\u001b[0;32m    209\u001b[0m     seasonal\u001b[39m=\u001b[39mresults[\u001b[39m0\u001b[39m],\n\u001b[0;32m    210\u001b[0m     trend\u001b[39m=\u001b[39mresults[\u001b[39m1\u001b[39m],\n\u001b[0;32m    211\u001b[0m     resid\u001b[39m=\u001b[39mresults[\u001b[39m2\u001b[39m],\n\u001b[0;32m    212\u001b[0m     observed\u001b[39m=\u001b[39mresults[\u001b[39m3\u001b[39m],\n\u001b[0;32m    213\u001b[0m )\n",
      "File \u001b[1;32mc:\\Users\\16474\\anaconda3\\lib\\site-packages\\statsmodels\\tools\\validation\\validation.py:231\u001b[0m, in \u001b[0;36mPandasWrapper.wrap\u001b[1;34m(self, obj, columns, append, trim_start, trim_end)\u001b[0m\n\u001b[0;32m    229\u001b[0m             new\u001b[39m.\u001b[39mappend(append \u001b[39mif\u001b[39;00m c \u001b[39mis\u001b[39;00m \u001b[39mNone\u001b[39;00m \u001b[39melse\u001b[39;00m \u001b[39mf\u001b[39m\u001b[39m\"\u001b[39m\u001b[39m{\u001b[39;00mc\u001b[39m}\u001b[39;00m\u001b[39m_\u001b[39m\u001b[39m{\u001b[39;00mappend\u001b[39m}\u001b[39;00m\u001b[39m\"\u001b[39m)\n\u001b[0;32m    230\u001b[0m         columns \u001b[39m=\u001b[39m new\n\u001b[1;32m--> 231\u001b[0m     \u001b[39mreturn\u001b[39;00m pd\u001b[39m.\u001b[39;49mDataFrame(obj, columns\u001b[39m=\u001b[39;49mcolumns, index\u001b[39m=\u001b[39;49mindex)\n\u001b[0;32m    232\u001b[0m \u001b[39melse\u001b[39;00m:\n\u001b[0;32m    233\u001b[0m     \u001b[39mraise\u001b[39;00m \u001b[39mValueError\u001b[39;00m(\u001b[39m\"\u001b[39m\u001b[39mCan only wrap 1 or 2-d array_like\u001b[39m\u001b[39m\"\u001b[39m)\n",
      "File \u001b[1;32mc:\\Users\\16474\\anaconda3\\lib\\site-packages\\pandas\\core\\frame.py:558\u001b[0m, in \u001b[0;36mDataFrame.__init__\u001b[1;34m(self, data, index, columns, dtype, copy)\u001b[0m\n\u001b[0;32m    556\u001b[0m         mgr \u001b[39m=\u001b[39m init_dict({data\u001b[39m.\u001b[39mname: data}, index, columns, dtype\u001b[39m=\u001b[39mdtype)\n\u001b[0;32m    557\u001b[0m     \u001b[39melse\u001b[39;00m:\n\u001b[1;32m--> 558\u001b[0m         mgr \u001b[39m=\u001b[39m init_ndarray(data, index, columns, dtype\u001b[39m=\u001b[39;49mdtype, copy\u001b[39m=\u001b[39;49mcopy)\n\u001b[0;32m    560\u001b[0m \u001b[39m# For data is list-like, or Iterable (will consume into list)\u001b[39;00m\n\u001b[0;32m    561\u001b[0m \u001b[39melif\u001b[39;00m \u001b[39misinstance\u001b[39m(data, abc\u001b[39m.\u001b[39mIterable) \u001b[39mand\u001b[39;00m \u001b[39mnot\u001b[39;00m \u001b[39misinstance\u001b[39m(data, (\u001b[39mstr\u001b[39m, \u001b[39mbytes\u001b[39m)):\n",
      "File \u001b[1;32mc:\\Users\\16474\\anaconda3\\lib\\site-packages\\pandas\\core\\internals\\construction.py:206\u001b[0m, in \u001b[0;36minit_ndarray\u001b[1;34m(values, index, columns, dtype, copy)\u001b[0m\n\u001b[0;32m    201\u001b[0m         \u001b[39mraise\u001b[39;00m \u001b[39mValueError\u001b[39;00m(\n\u001b[0;32m    202\u001b[0m             \u001b[39mf\u001b[39m\u001b[39m\"\u001b[39m\u001b[39mfailed to cast to \u001b[39m\u001b[39m'\u001b[39m\u001b[39m{\u001b[39;00mdtype\u001b[39m}\u001b[39;00m\u001b[39m'\u001b[39m\u001b[39m (Exception was: \u001b[39m\u001b[39m{\u001b[39;00morig\u001b[39m}\u001b[39;00m\u001b[39m)\u001b[39m\u001b[39m\"\u001b[39m\n\u001b[0;32m    203\u001b[0m         ) \u001b[39mfrom\u001b[39;00m \u001b[39morig\u001b[39;00m\n\u001b[0;32m    205\u001b[0m \u001b[39m# _prep_ndarray ensures that values.ndim == 2 at this point\u001b[39;00m\n\u001b[1;32m--> 206\u001b[0m index, columns \u001b[39m=\u001b[39m _get_axes(\n\u001b[0;32m    207\u001b[0m     values\u001b[39m.\u001b[39;49mshape[\u001b[39m0\u001b[39;49m], values\u001b[39m.\u001b[39;49mshape[\u001b[39m1\u001b[39;49m], index\u001b[39m=\u001b[39;49mindex, columns\u001b[39m=\u001b[39;49mcolumns\n\u001b[0;32m    208\u001b[0m )\n\u001b[0;32m    209\u001b[0m values \u001b[39m=\u001b[39m values\u001b[39m.\u001b[39mT\n\u001b[0;32m    211\u001b[0m \u001b[39m# if we don't have a dtype specified, then try to convert objects\u001b[39;00m\n\u001b[0;32m    212\u001b[0m \u001b[39m# on the entire block; this is to convert if we have datetimelike's\u001b[39;00m\n\u001b[0;32m    213\u001b[0m \u001b[39m# embedded in an object type\u001b[39;00m\n",
      "File \u001b[1;32mc:\\Users\\16474\\anaconda3\\lib\\site-packages\\pandas\\core\\internals\\construction.py:466\u001b[0m, in \u001b[0;36m_get_axes\u001b[1;34m(N, K, index, columns)\u001b[0m\n\u001b[0;32m    464\u001b[0m     columns \u001b[39m=\u001b[39m ibase\u001b[39m.\u001b[39mdefault_index(K)\n\u001b[0;32m    465\u001b[0m \u001b[39melse\u001b[39;00m:\n\u001b[1;32m--> 466\u001b[0m     columns \u001b[39m=\u001b[39m ensure_index(columns)\n\u001b[0;32m    467\u001b[0m \u001b[39mreturn\u001b[39;00m index, columns\n",
      "File \u001b[1;32mc:\\Users\\16474\\anaconda3\\lib\\site-packages\\pandas\\core\\indexes\\base.py:5918\u001b[0m, in \u001b[0;36mensure_index\u001b[1;34m(index_like, copy)\u001b[0m\n\u001b[0;32m   5915\u001b[0m     \u001b[39mif\u001b[39;00m copy:\n\u001b[0;32m   5916\u001b[0m         index_like \u001b[39m=\u001b[39m copy_func(index_like)\n\u001b[1;32m-> 5918\u001b[0m \u001b[39mreturn\u001b[39;00m Index(index_like)\n",
      "File \u001b[1;32mc:\\Users\\16474\\anaconda3\\lib\\site-packages\\pandas\\core\\indexes\\base.py:372\u001b[0m, in \u001b[0;36mIndex.__new__\u001b[1;34m(cls, data, dtype, copy, name, tupleize_cols, **kwargs)\u001b[0m\n\u001b[0;32m    369\u001b[0m     \u001b[39mreturn\u001b[39;00m \u001b[39mcls\u001b[39m\u001b[39m.\u001b[39m_simple_new(subarr, name)\n\u001b[0;32m    371\u001b[0m \u001b[39melif\u001b[39;00m data \u001b[39mis\u001b[39;00m \u001b[39mNone\u001b[39;00m \u001b[39mor\u001b[39;00m is_scalar(data):\n\u001b[1;32m--> 372\u001b[0m     \u001b[39mraise\u001b[39;00m \u001b[39mcls\u001b[39m\u001b[39m.\u001b[39m_scalar_data_error(data)\n\u001b[0;32m    373\u001b[0m \u001b[39melif\u001b[39;00m \u001b[39mhasattr\u001b[39m(data, \u001b[39m\"\u001b[39m\u001b[39m__array__\u001b[39m\u001b[39m\"\u001b[39m):\n\u001b[0;32m    374\u001b[0m     \u001b[39mreturn\u001b[39;00m Index(np\u001b[39m.\u001b[39masarray(data), dtype\u001b[39m=\u001b[39mdtype, copy\u001b[39m=\u001b[39mcopy, name\u001b[39m=\u001b[39mname, \u001b[39m*\u001b[39m\u001b[39m*\u001b[39mkwargs)\n",
      "\u001b[1;31mTypeError\u001b[0m: Index(...) must be called with a collection of some kind, 'seasonal' was passed"
     ]
    }
   ],
   "source": [
    "from statsmodels.tsa.seasonal import seasonal_decompose\n",
    "\n",
    "res = seasonal_decompose(df, model = \"additive \",period = 30)\n",
    "\n",
    "fig, (ax1,ax2,ax3) = plt.subplots(3,1, figsize=(15,8))\n",
    "res.trend.plot(ax=ax1,ylabel = \"trend\")\n",
    "res.resid.plot(ax=ax2,ylabel = \"seasoanlity\")\n",
    "res.seasonal.plot(ax=ax3,ylabel = \"residual\")\n",
    "plt.show()"
   ]
  }
 ],
 "metadata": {
  "kernelspec": {
   "display_name": "Python 3.9.12 64-bit ('anaconda3')",
   "language": "python",
   "name": "python3"
  },
  "language_info": {
   "codemirror_mode": {
    "name": "ipython",
    "version": 3
   },
   "file_extension": ".py",
   "mimetype": "text/x-python",
   "name": "python",
   "nbconvert_exporter": "python",
   "pygments_lexer": "ipython3",
   "version": "3.9.12"
  },
  "orig_nbformat": 4,
  "vscode": {
   "interpreter": {
    "hash": "0186a538ad27e2db57fefa14172f824d8896a2c272936670a25fa8d5fb9a4dc9"
   }
  }
 },
 "nbformat": 4,
 "nbformat_minor": 2
}
