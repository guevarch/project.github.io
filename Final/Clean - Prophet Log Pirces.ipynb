{
 "cells": [
  {
   "cell_type": "code",
   "execution_count": 19,
   "metadata": {},
   "outputs": [
    {
     "name": "stderr",
     "output_type": "stream",
     "text": [
      "18:07:07 - cmdstanpy - INFO - Chain [1] start processing\n",
      "18:07:09 - cmdstanpy - INFO - Chain [1] done processing\n"
     ]
    }
   ],
   "source": [
    "from flask import Flask, render_template\n",
    "import numpy as np\n",
    "import pandas as pd\n",
    "import joblib\n",
    "import requests\n",
    "from prophet import Prophet     \n",
    "\n",
    "df = pd.read_csv(\"../Resources/mldatapriceslog.csv\")\n",
    "\n",
    "# instantiate the model and set parameters\n",
    "model = Prophet()\n",
    "\n",
    "# fit the model to historical data\n",
    "model.fit(df)\n",
    "\n",
    "# # Get values through input bars\n",
    "start = \"2011-01-01\"\n",
    "Date = \"2022-11-01\"    \n",
    "\n",
    "insample = pd.DataFrame(pd.date_range(start, Date, periods=92))\n",
    "insample.columns = ['ds']\n",
    "\n",
    "# in-sample prediction\n",
    "prediction = model.predict(insample)\n",
    "\n",
    "# Get prediction\n",
    "prediction = prediction[prediction['ds'].dt.strftime('%Y-%m-%d') == Date]\n",
    "prediction = np.exp(prediction.yhat)\n",
    "prediction = prediction.values[0].round(2)"
   ]
  },
  {
   "cell_type": "code",
   "execution_count": 20,
   "metadata": {},
   "outputs": [],
   "source": [
    "prediction = (\"The forecasted price of bitcoin is $\" + str(prediction))\n"
   ]
  },
  {
   "cell_type": "code",
   "execution_count": 21,
   "metadata": {},
   "outputs": [
    {
     "name": "stdout",
     "output_type": "stream",
     "text": [
      "The forecasted price of bitcoin is $49255.24\n"
     ]
    }
   ],
   "source": [
    "print(prediction)"
   ]
  }
 ],
 "metadata": {
  "kernelspec": {
   "display_name": "Python 3.9.12",
   "language": "python",
   "name": "python3"
  },
  "language_info": {
   "codemirror_mode": {
    "name": "ipython",
    "version": 3
   },
   "file_extension": ".py",
   "mimetype": "text/x-python",
   "name": "python",
   "nbconvert_exporter": "python",
   "pygments_lexer": "ipython3",
   "version": "3.9.12"
  },
  "orig_nbformat": 4,
  "vscode": {
   "interpreter": {
    "hash": "0186a538ad27e2db57fefa14172f824d8896a2c272936670a25fa8d5fb9a4dc9"
   }
  }
 },
 "nbformat": 4,
 "nbformat_minor": 2
}
