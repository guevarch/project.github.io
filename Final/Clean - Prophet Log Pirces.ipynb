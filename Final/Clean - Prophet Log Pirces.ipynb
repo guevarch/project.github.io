{
 "cells": [
  {
   "cell_type": "code",
   "execution_count": 10,
   "metadata": {},
   "outputs": [
    {
     "name": "stderr",
     "output_type": "stream",
     "text": [
      "14:39:01 - cmdstanpy - INFO - Chain [1] start processing\n",
      "14:39:03 - cmdstanpy - INFO - Chain [1] done processing\n"
     ]
    },
    {
     "data": {
      "text/plain": [
       "'The forecasted price of bitcoin is $49255.24'"
      ]
     },
     "execution_count": 10,
     "metadata": {},
     "output_type": "execute_result"
    }
   ],
   "source": [
    "from flask import Flask, render_template\n",
    "import numpy as np\n",
    "import pandas as pd\n",
    "import joblib\n",
    "import requests\n",
    "from prophet import Prophet     \n",
    "\n",
    "df = pd.read_csv(\"../Resources/mldatapriceslog.csv\")\n",
    "\n",
    "# instantiate the model and set parameters\n",
    "model = Prophet()\n",
    "\n",
    "# fit the model to historical data\n",
    "model.fit(df)\n",
    "\n",
    "# # Get values through input bars\n",
    "start = \"2011-01-01\"\n",
    "Date = \"2022-11-01\"    \n",
    "\n",
    "insample = pd.DataFrame(pd.date_range(start, Date, periods=92))\n",
    "insample.columns = ['ds']\n",
    "\n",
    "# in-sample prediction\n",
    "prediction = model.predict(insample)\n",
    "\n",
    "# Get prediction\n",
    "prediction = prediction[prediction['ds'].dt.strftime('%Y-%m-%d') == Date]\n",
    "prediction = np.exp(prediction.yhat)\n",
    "prediction = prediction.values[0].round(2)\n",
    "prediction = (\"The forecasted price of bitcoin is $\" + str(prediction))\n",
    "prediction"
   ]
  },
  {
   "cell_type": "code",
   "execution_count": 11,
   "metadata": {},
   "outputs": [
    {
     "name": "stderr",
     "output_type": "stream",
     "text": [
      "14:39:03 - cmdstanpy - INFO - Chain [1] start processing\n",
      "14:39:08 - cmdstanpy - INFO - Chain [1] done processing\n"
     ]
    },
    {
     "data": {
      "text/plain": [
       "'The forecasted value of bitcoin is $47985.13'"
      ]
     },
     "execution_count": 11,
     "metadata": {},
     "output_type": "execute_result"
    }
   ],
   "source": [
    "dfvalue = pd.read_csv(\"../Resources/mlvaluedata.csv\")\n",
    "\n",
    "# instantiate the model and set parameters\n",
    "model = Prophet()\n",
    "\n",
    "# fit the model to historical data\n",
    "model.fit(dfvalue)\n",
    "\n",
    "# in-sample prediction\n",
    "predictionvalue = model.predict(insample)\n",
    "\n",
    "# Get prediction\n",
    "predictionvalue = predictionvalue[predictionvalue['ds'].dt.strftime('%Y-%m-%d') == Date]\n",
    "predictionvalue = np.exp(predictionvalue.yhat)\n",
    "predictionvalue = predictionvalue.values[0].round(2)\n",
    "predictionvalue = (\"The forecasted value of bitcoin is $\" + str(predictionvalue))\n",
    "predictionvalue"
   ]
  },
  {
   "cell_type": "code",
   "execution_count": 12,
   "metadata": {},
   "outputs": [
    {
     "name": "stderr",
     "output_type": "stream",
     "text": [
      "14:39:08 - cmdstanpy - INFO - Chain [1] start processing\n",
      "14:39:11 - cmdstanpy - INFO - Chain [1] done processing\n"
     ]
    },
    {
     "data": {
      "text/plain": [
       "'The forecasted number of bitcoin wallets are 91502080.0'"
      ]
     },
     "execution_count": 12,
     "metadata": {},
     "output_type": "execute_result"
    }
   ],
   "source": [
    "dfwallet = pd.read_csv(\"../Resources/mlwalletsdata.csv\")\n",
    "\n",
    "# instantiate the model and set parameters\n",
    "model = Prophet()\n",
    "\n",
    "# fit the model to historical data\n",
    "model.fit(dfwallet)\n",
    "\n",
    "# in-sample prediction\n",
    "predictionwall = model.predict(insample)\n",
    "\n",
    "# Get prediction\n",
    "predictionwall = predictionwall[predictionwall['ds'].dt.strftime('%Y-%m-%d') == Date]\n",
    "predictionwall = (predictionwall.yhat)\n",
    "predictionwall = predictionwall.values[0].round(0)\n",
    "predictionwall = (\"The forecasted number of bitcoin wallets are \" + str(predictionwall))\n",
    "predictionwall"
   ]
  },
  {
   "cell_type": "code",
   "execution_count": 13,
   "metadata": {},
   "outputs": [],
   "source": [
    "p = (\"The forecasted price of bitcoin is $\" + str(prediction)) + (\". The forecasted value of bitcoin is $\" + str(predictionvalue) + (\". The forecasted number of bitcoin wallets are \" + str(predictionwall)))"
   ]
  },
  {
   "cell_type": "code",
   "execution_count": 14,
   "metadata": {},
   "outputs": [
    {
     "data": {
      "text/plain": [
       "'The forecasted price of bitcoin is $The forecasted price of bitcoin is $49255.24. The forecasted value of bitcoin is $The forecasted value of bitcoin is $47985.13. The forecasted number of bitcoin wallets are The forecasted number of bitcoin wallets are 91502080.0'"
      ]
     },
     "execution_count": 14,
     "metadata": {},
     "output_type": "execute_result"
    }
   ],
   "source": [
    "p"
   ]
  }
 ],
 "metadata": {
  "kernelspec": {
   "display_name": "Python 3.9.12",
   "language": "python",
   "name": "python3"
  },
  "language_info": {
   "codemirror_mode": {
    "name": "ipython",
    "version": 3
   },
   "file_extension": ".py",
   "mimetype": "text/x-python",
   "name": "python",
   "nbconvert_exporter": "python",
   "pygments_lexer": "ipython3",
   "version": "3.9.12"
  },
  "orig_nbformat": 4,
  "vscode": {
   "interpreter": {
    "hash": "0186a538ad27e2db57fefa14172f824d8896a2c272936670a25fa8d5fb9a4dc9"
   }
  }
 },
 "nbformat": 4,
 "nbformat_minor": 2
}
